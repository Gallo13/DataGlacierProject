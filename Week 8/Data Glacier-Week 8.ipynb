{
 "cells": [
  {
   "cell_type": "code",
   "execution_count": null,
   "id": "0a8554f1",
   "metadata": {},
   "outputs": [],
   "source": [
    "# Created by: Jess Gallo\n",
    "# Date Created: 09/20/2022\n",
    "# Last Modified: 09/22/2022\n",
    "# Description: Data Glacier Week 7"
   ]
  },
  {
   "cell_type": "code",
   "execution_count": 13,
   "id": "01d5528d",
   "metadata": {},
   "outputs": [],
   "source": [
    "# Libraries\n",
    "import pandas as pd\n",
    "import seaborn as sns"
   ]
  },
  {
   "cell_type": "code",
   "execution_count": 3,
   "id": "b04aff81",
   "metadata": {},
   "outputs": [
    {
     "data": {
      "text/html": [
       "<div>\n",
       "<style scoped>\n",
       "    .dataframe tbody tr th:only-of-type {\n",
       "        vertical-align: middle;\n",
       "    }\n",
       "\n",
       "    .dataframe tbody tr th {\n",
       "        vertical-align: top;\n",
       "    }\n",
       "\n",
       "    .dataframe thead th {\n",
       "        text-align: right;\n",
       "    }\n",
       "</style>\n",
       "<table border=\"1\" class=\"dataframe\">\n",
       "  <thead>\n",
       "    <tr style=\"text-align: right;\">\n",
       "      <th></th>\n",
       "      <th>Ptid</th>\n",
       "      <th>Persistency_Flag</th>\n",
       "      <th>Gender</th>\n",
       "      <th>Race</th>\n",
       "      <th>Ethnicity</th>\n",
       "      <th>Region</th>\n",
       "      <th>Age_Bucket</th>\n",
       "      <th>Ntm_Speciality</th>\n",
       "      <th>Ntm_Specialist_Flag</th>\n",
       "      <th>Ntm_Speciality_Bucket</th>\n",
       "      <th>...</th>\n",
       "      <th>Risk_Family_History_Of_Osteoporosis</th>\n",
       "      <th>Risk_Low_Calcium_Intake</th>\n",
       "      <th>Risk_Vitamin_D_Insufficiency</th>\n",
       "      <th>Risk_Poor_Health_Frailty</th>\n",
       "      <th>Risk_Excessive_Thinness</th>\n",
       "      <th>Risk_Hysterectomy_Oophorectomy</th>\n",
       "      <th>Risk_Estrogen_Deficiency</th>\n",
       "      <th>Risk_Immobilization</th>\n",
       "      <th>Risk_Recurring_Falls</th>\n",
       "      <th>Count_Of_Risks</th>\n",
       "    </tr>\n",
       "  </thead>\n",
       "  <tbody>\n",
       "    <tr>\n",
       "      <th>0</th>\n",
       "      <td>P1</td>\n",
       "      <td>Persistent</td>\n",
       "      <td>Male</td>\n",
       "      <td>Caucasian</td>\n",
       "      <td>Not Hispanic</td>\n",
       "      <td>West</td>\n",
       "      <td>&gt;75</td>\n",
       "      <td>GENERAL PRACTITIONER</td>\n",
       "      <td>Others</td>\n",
       "      <td>OB/GYN/Others/PCP/Unknown</td>\n",
       "      <td>...</td>\n",
       "      <td>N</td>\n",
       "      <td>N</td>\n",
       "      <td>N</td>\n",
       "      <td>N</td>\n",
       "      <td>N</td>\n",
       "      <td>N</td>\n",
       "      <td>N</td>\n",
       "      <td>N</td>\n",
       "      <td>N</td>\n",
       "      <td>0</td>\n",
       "    </tr>\n",
       "    <tr>\n",
       "      <th>1</th>\n",
       "      <td>P2</td>\n",
       "      <td>Non-Persistent</td>\n",
       "      <td>Male</td>\n",
       "      <td>Asian</td>\n",
       "      <td>Not Hispanic</td>\n",
       "      <td>West</td>\n",
       "      <td>55-65</td>\n",
       "      <td>GENERAL PRACTITIONER</td>\n",
       "      <td>Others</td>\n",
       "      <td>OB/GYN/Others/PCP/Unknown</td>\n",
       "      <td>...</td>\n",
       "      <td>N</td>\n",
       "      <td>N</td>\n",
       "      <td>N</td>\n",
       "      <td>N</td>\n",
       "      <td>N</td>\n",
       "      <td>N</td>\n",
       "      <td>N</td>\n",
       "      <td>N</td>\n",
       "      <td>N</td>\n",
       "      <td>0</td>\n",
       "    </tr>\n",
       "    <tr>\n",
       "      <th>2</th>\n",
       "      <td>P3</td>\n",
       "      <td>Non-Persistent</td>\n",
       "      <td>Female</td>\n",
       "      <td>Other/Unknown</td>\n",
       "      <td>Hispanic</td>\n",
       "      <td>Midwest</td>\n",
       "      <td>65-75</td>\n",
       "      <td>GENERAL PRACTITIONER</td>\n",
       "      <td>Others</td>\n",
       "      <td>OB/GYN/Others/PCP/Unknown</td>\n",
       "      <td>...</td>\n",
       "      <td>N</td>\n",
       "      <td>Y</td>\n",
       "      <td>N</td>\n",
       "      <td>N</td>\n",
       "      <td>N</td>\n",
       "      <td>N</td>\n",
       "      <td>N</td>\n",
       "      <td>N</td>\n",
       "      <td>N</td>\n",
       "      <td>2</td>\n",
       "    </tr>\n",
       "    <tr>\n",
       "      <th>3</th>\n",
       "      <td>P4</td>\n",
       "      <td>Non-Persistent</td>\n",
       "      <td>Female</td>\n",
       "      <td>Caucasian</td>\n",
       "      <td>Not Hispanic</td>\n",
       "      <td>Midwest</td>\n",
       "      <td>&gt;75</td>\n",
       "      <td>GENERAL PRACTITIONER</td>\n",
       "      <td>Others</td>\n",
       "      <td>OB/GYN/Others/PCP/Unknown</td>\n",
       "      <td>...</td>\n",
       "      <td>N</td>\n",
       "      <td>N</td>\n",
       "      <td>N</td>\n",
       "      <td>N</td>\n",
       "      <td>N</td>\n",
       "      <td>N</td>\n",
       "      <td>N</td>\n",
       "      <td>N</td>\n",
       "      <td>N</td>\n",
       "      <td>1</td>\n",
       "    </tr>\n",
       "    <tr>\n",
       "      <th>4</th>\n",
       "      <td>P5</td>\n",
       "      <td>Non-Persistent</td>\n",
       "      <td>Female</td>\n",
       "      <td>Caucasian</td>\n",
       "      <td>Not Hispanic</td>\n",
       "      <td>Midwest</td>\n",
       "      <td>&gt;75</td>\n",
       "      <td>GENERAL PRACTITIONER</td>\n",
       "      <td>Others</td>\n",
       "      <td>OB/GYN/Others/PCP/Unknown</td>\n",
       "      <td>...</td>\n",
       "      <td>N</td>\n",
       "      <td>N</td>\n",
       "      <td>N</td>\n",
       "      <td>N</td>\n",
       "      <td>N</td>\n",
       "      <td>N</td>\n",
       "      <td>N</td>\n",
       "      <td>N</td>\n",
       "      <td>N</td>\n",
       "      <td>1</td>\n",
       "    </tr>\n",
       "  </tbody>\n",
       "</table>\n",
       "<p>5 rows × 69 columns</p>\n",
       "</div>"
      ],
      "text/plain": [
       "  Ptid Persistency_Flag  Gender           Race     Ethnicity   Region  \\\n",
       "0   P1       Persistent    Male      Caucasian  Not Hispanic     West   \n",
       "1   P2   Non-Persistent    Male          Asian  Not Hispanic     West   \n",
       "2   P3   Non-Persistent  Female  Other/Unknown      Hispanic  Midwest   \n",
       "3   P4   Non-Persistent  Female      Caucasian  Not Hispanic  Midwest   \n",
       "4   P5   Non-Persistent  Female      Caucasian  Not Hispanic  Midwest   \n",
       "\n",
       "  Age_Bucket        Ntm_Speciality Ntm_Specialist_Flag  \\\n",
       "0        >75  GENERAL PRACTITIONER              Others   \n",
       "1      55-65  GENERAL PRACTITIONER              Others   \n",
       "2      65-75  GENERAL PRACTITIONER              Others   \n",
       "3        >75  GENERAL PRACTITIONER              Others   \n",
       "4        >75  GENERAL PRACTITIONER              Others   \n",
       "\n",
       "       Ntm_Speciality_Bucket  ... Risk_Family_History_Of_Osteoporosis  \\\n",
       "0  OB/GYN/Others/PCP/Unknown  ...                                   N   \n",
       "1  OB/GYN/Others/PCP/Unknown  ...                                   N   \n",
       "2  OB/GYN/Others/PCP/Unknown  ...                                   N   \n",
       "3  OB/GYN/Others/PCP/Unknown  ...                                   N   \n",
       "4  OB/GYN/Others/PCP/Unknown  ...                                   N   \n",
       "\n",
       "  Risk_Low_Calcium_Intake  Risk_Vitamin_D_Insufficiency  \\\n",
       "0                       N                             N   \n",
       "1                       N                             N   \n",
       "2                       Y                             N   \n",
       "3                       N                             N   \n",
       "4                       N                             N   \n",
       "\n",
       "  Risk_Poor_Health_Frailty Risk_Excessive_Thinness  \\\n",
       "0                        N                       N   \n",
       "1                        N                       N   \n",
       "2                        N                       N   \n",
       "3                        N                       N   \n",
       "4                        N                       N   \n",
       "\n",
       "  Risk_Hysterectomy_Oophorectomy Risk_Estrogen_Deficiency Risk_Immobilization  \\\n",
       "0                              N                        N                   N   \n",
       "1                              N                        N                   N   \n",
       "2                              N                        N                   N   \n",
       "3                              N                        N                   N   \n",
       "4                              N                        N                   N   \n",
       "\n",
       "  Risk_Recurring_Falls Count_Of_Risks  \n",
       "0                    N              0  \n",
       "1                    N              0  \n",
       "2                    N              2  \n",
       "3                    N              1  \n",
       "4                    N              1  \n",
       "\n",
       "[5 rows x 69 columns]"
      ]
     },
     "execution_count": 3,
     "metadata": {},
     "output_type": "execute_result"
    }
   ],
   "source": [
    "# Import Dataset\n",
    "filename = r'C:\\Users\\Gallo\\Downloads\\Healthcare_dataset.xlsx'\n",
    "\n",
    "# sheet 1 name is 'Feature Description'\n",
    "dataset = pd.read_excel(filename, sheet_name = 'Dataset')\n",
    "df = pd.DataFrame(dataset)\n",
    "\n",
    "df.head()"
   ]
  },
  {
   "cell_type": "code",
   "execution_count": 4,
   "id": "ce821e0f",
   "metadata": {},
   "outputs": [
    {
     "name": "stdout",
     "output_type": "stream",
     "text": [
      "<class 'pandas.core.frame.DataFrame'>\n",
      "RangeIndex: 3424 entries, 0 to 3423\n",
      "Data columns (total 69 columns):\n",
      " #   Column                                                              Non-Null Count  Dtype \n",
      "---  ------                                                              --------------  ----- \n",
      " 0   Ptid                                                                3424 non-null   object\n",
      " 1   Persistency_Flag                                                    3424 non-null   object\n",
      " 2   Gender                                                              3424 non-null   object\n",
      " 3   Race                                                                3424 non-null   object\n",
      " 4   Ethnicity                                                           3424 non-null   object\n",
      " 5   Region                                                              3424 non-null   object\n",
      " 6   Age_Bucket                                                          3424 non-null   object\n",
      " 7   Ntm_Speciality                                                      3424 non-null   object\n",
      " 8   Ntm_Specialist_Flag                                                 3424 non-null   object\n",
      " 9   Ntm_Speciality_Bucket                                               3424 non-null   object\n",
      " 10  Gluco_Record_Prior_Ntm                                              3424 non-null   object\n",
      " 11  Gluco_Record_During_Rx                                              3424 non-null   object\n",
      " 12  Dexa_Freq_During_Rx                                                 3424 non-null   int64 \n",
      " 13  Dexa_During_Rx                                                      3424 non-null   object\n",
      " 14  Frag_Frac_Prior_Ntm                                                 3424 non-null   object\n",
      " 15  Frag_Frac_During_Rx                                                 3424 non-null   object\n",
      " 16  Risk_Segment_Prior_Ntm                                              3424 non-null   object\n",
      " 17  Tscore_Bucket_Prior_Ntm                                             3424 non-null   object\n",
      " 18  Risk_Segment_During_Rx                                              3424 non-null   object\n",
      " 19  Tscore_Bucket_During_Rx                                             3424 non-null   object\n",
      " 20  Change_T_Score                                                      3424 non-null   object\n",
      " 21  Change_Risk_Segment                                                 3424 non-null   object\n",
      " 22  Adherent_Flag                                                       3424 non-null   object\n",
      " 23  Idn_Indicator                                                       3424 non-null   object\n",
      " 24  Injectable_Experience_During_Rx                                     3424 non-null   object\n",
      " 25  Comorb_Encounter_For_Screening_For_Malignant_Neoplasms              3424 non-null   object\n",
      " 26  Comorb_Encounter_For_Immunization                                   3424 non-null   object\n",
      " 27  Comorb_Encntr_For_General_Exam_W_O_Complaint,_Susp_Or_Reprtd_Dx     3424 non-null   object\n",
      " 28  Comorb_Vitamin_D_Deficiency                                         3424 non-null   object\n",
      " 29  Comorb_Other_Joint_Disorder_Not_Elsewhere_Classified                3424 non-null   object\n",
      " 30  Comorb_Encntr_For_Oth_Sp_Exam_W_O_Complaint_Suspected_Or_Reprtd_Dx  3424 non-null   object\n",
      " 31  Comorb_Long_Term_Current_Drug_Therapy                               3424 non-null   object\n",
      " 32  Comorb_Dorsalgia                                                    3424 non-null   object\n",
      " 33  Comorb_Personal_History_Of_Other_Diseases_And_Conditions            3424 non-null   object\n",
      " 34  Comorb_Other_Disorders_Of_Bone_Density_And_Structure                3424 non-null   object\n",
      " 35  Comorb_Disorders_of_lipoprotein_metabolism_and_other_lipidemias     3424 non-null   object\n",
      " 36  Comorb_Osteoporosis_without_current_pathological_fracture           3424 non-null   object\n",
      " 37  Comorb_Personal_history_of_malignant_neoplasm                       3424 non-null   object\n",
      " 38  Comorb_Gastro_esophageal_reflux_disease                             3424 non-null   object\n",
      " 39  Concom_Cholesterol_And_Triglyceride_Regulating_Preparations         3424 non-null   object\n",
      " 40  Concom_Narcotics                                                    3424 non-null   object\n",
      " 41  Concom_Systemic_Corticosteroids_Plain                               3424 non-null   object\n",
      " 42  Concom_Anti_Depressants_And_Mood_Stabilisers                        3424 non-null   object\n",
      " 43  Concom_Fluoroquinolones                                             3424 non-null   object\n",
      " 44  Concom_Cephalosporins                                               3424 non-null   object\n",
      " 45  Concom_Macrolides_And_Similar_Types                                 3424 non-null   object\n",
      " 46  Concom_Broad_Spectrum_Penicillins                                   3424 non-null   object\n",
      " 47  Concom_Anaesthetics_General                                         3424 non-null   object\n",
      " 48  Concom_Viral_Vaccines                                               3424 non-null   object\n",
      " 49  Risk_Type_1_Insulin_Dependent_Diabetes                              3424 non-null   object\n",
      " 50  Risk_Osteogenesis_Imperfecta                                        3424 non-null   object\n",
      " 51  Risk_Rheumatoid_Arthritis                                           3424 non-null   object\n",
      " 52  Risk_Untreated_Chronic_Hyperthyroidism                              3424 non-null   object\n",
      " 53  Risk_Untreated_Chronic_Hypogonadism                                 3424 non-null   object\n",
      " 54  Risk_Untreated_Early_Menopause                                      3424 non-null   object\n",
      " 55  Risk_Patient_Parent_Fractured_Their_Hip                             3424 non-null   object\n",
      " 56  Risk_Smoking_Tobacco                                                3424 non-null   object\n",
      " 57  Risk_Chronic_Malnutrition_Or_Malabsorption                          3424 non-null   object\n",
      " 58  Risk_Chronic_Liver_Disease                                          3424 non-null   object\n",
      " 59  Risk_Family_History_Of_Osteoporosis                                 3424 non-null   object\n",
      " 60  Risk_Low_Calcium_Intake                                             3424 non-null   object\n",
      " 61  Risk_Vitamin_D_Insufficiency                                        3424 non-null   object\n",
      " 62  Risk_Poor_Health_Frailty                                            3424 non-null   object\n",
      " 63  Risk_Excessive_Thinness                                             3424 non-null   object\n",
      " 64  Risk_Hysterectomy_Oophorectomy                                      3424 non-null   object\n",
      " 65  Risk_Estrogen_Deficiency                                            3424 non-null   object\n",
      " 66  Risk_Immobilization                                                 3424 non-null   object\n",
      " 67  Risk_Recurring_Falls                                                3424 non-null   object\n",
      " 68  Count_Of_Risks                                                      3424 non-null   int64 \n",
      "dtypes: int64(2), object(67)\n",
      "memory usage: 1.8+ MB\n"
     ]
    }
   ],
   "source": [
    "df.info()"
   ]
  },
  {
   "cell_type": "code",
   "execution_count": 11,
   "id": "3f89423f",
   "metadata": {},
   "outputs": [
    {
     "data": {
      "text/plain": [
       "array([dtype('O'), dtype('int64')], dtype=object)"
      ]
     },
     "execution_count": 11,
     "metadata": {},
     "output_type": "execute_result"
    }
   ],
   "source": [
    "df.dtypes.unique()"
   ]
  },
  {
   "cell_type": "markdown",
   "id": "ef1756e3",
   "metadata": {},
   "source": [
    "# Missing Data"
   ]
  },
  {
   "cell_type": "code",
   "execution_count": 7,
   "id": "d24bc5bb",
   "metadata": {},
   "outputs": [
    {
     "data": {
      "text/plain": [
       "Ptid                              False\n",
       "Persistency_Flag                  False\n",
       "Gender                            False\n",
       "Race                              False\n",
       "Ethnicity                         False\n",
       "                                  ...  \n",
       "Risk_Hysterectomy_Oophorectomy    False\n",
       "Risk_Estrogen_Deficiency          False\n",
       "Risk_Immobilization               False\n",
       "Risk_Recurring_Falls              False\n",
       "Count_Of_Risks                    False\n",
       "Length: 69, dtype: bool"
      ]
     },
     "execution_count": 7,
     "metadata": {},
     "output_type": "execute_result"
    }
   ],
   "source": [
    "df.isnull().any()"
   ]
  },
  {
   "cell_type": "markdown",
   "id": "06296c90",
   "metadata": {},
   "source": [
    "There is no missing data to clean."
   ]
  },
  {
   "cell_type": "markdown",
   "id": "4f58cf56",
   "metadata": {},
   "source": [
    "# Outliers"
   ]
  },
  {
   "cell_type": "code",
   "execution_count": 18,
   "id": "74c4e2d3",
   "metadata": {},
   "outputs": [
    {
     "name": "stderr",
     "output_type": "stream",
     "text": [
      "C:\\Users\\Gallo\\anaconda3\\envs\\GPUenv\\lib\\site-packages\\seaborn\\_decorators.py:36: FutureWarning: Pass the following variable as a keyword arg: x. From version 0.12, the only valid positional argument will be `data`, and passing other arguments without an explicit keyword will result in an error or misinterpretation.\n",
      "  warnings.warn(\n"
     ]
    },
    {
     "data": {
      "text/plain": [
       "<AxesSubplot:xlabel='Count_Of_Risks'>"
      ]
     },
     "execution_count": 18,
     "metadata": {},
     "output_type": "execute_result"
    },
    {
     "data": {
      "image/png": "[encoded data removed]",
      "text/plain": [
       "<Figure size 432x288 with 1 Axes>"
      ]
     },
     "metadata": {
      "needs_background": "light"
     },
     "output_type": "display_data"
    }
   ],
   "source": [
    "sns.boxplot(df['Count_Of_Risks'])"
   ]
  },
  {
   "cell_type": "code",
   "execution_count": 19,
   "id": "74312f71",
   "metadata": {},
   "outputs": [
    {
     "name": "stderr",
     "output_type": "stream",
     "text": [
      "C:\\Users\\Gallo\\anaconda3\\envs\\GPUenv\\lib\\site-packages\\seaborn\\_decorators.py:36: FutureWarning: Pass the following variable as a keyword arg: x. From version 0.12, the only valid positional argument will be `data`, and passing other arguments without an explicit keyword will result in an error or misinterpretation.\n",
      "  warnings.warn(\n"
     ]
    },
    {
     "data": {
      "text/plain": [
       "<AxesSubplot:xlabel='Dexa_Freq_During_Rx'>"
      ]
     },
     "execution_count": 19,
     "metadata": {},
     "output_type": "execute_result"
    },
    {
     "data": {
      "image/png": "[encoded data removed]",
      "text/plain": [
       "<Figure size 432x288 with 1 Axes>"
      ]
     },
     "metadata": {
      "needs_background": "light"
     },
     "output_type": "display_data"
    }
   ],
   "source": [
    "sns.boxplot(df['Dexa_Freq_During_Rx'])"
   ]
  },
  {
   "cell_type": "markdown",
   "id": "56747d18",
   "metadata": {},
   "source": [
    "# Skewness"
   ]
  },
  {
   "cell_type": "code",
   "execution_count": 20,
   "id": "a695838e",
   "metadata": {},
   "outputs": [
    {
     "name": "stderr",
     "output_type": "stream",
     "text": [
      "C:\\Users\\Gallo\\AppData\\Local\\Temp/ipykernel_16012/568673259.py:2: FutureWarning: Dropping of nuisance columns in DataFrame reductions (with 'numeric_only=None') is deprecated; in a future version this will raise TypeError.  Select only valid columns before calling the reduction.\n",
      "  df.skew(axis = 0, skipna = True)\n"
     ]
    },
    {
     "data": {
      "text/plain": [
       "Dexa_Freq_During_Rx    6.808730\n",
       "Count_Of_Risks         0.879791\n",
       "dtype: float64"
      ]
     },
     "execution_count": 20,
     "metadata": {},
     "output_type": "execute_result"
    }
   ],
   "source": [
    "# skewness along the index axis\n",
    "df.skew(axis = 0, skipna = True)"
   ]
  },
  {
   "cell_type": "markdown",
   "id": "a5db0b1b",
   "metadata": {},
   "source": [
    "There cannot be skewness in this dataset since this is almost all categorical data"
   ]
  },
  {
   "cell_type": "markdown",
   "id": "e4913c57",
   "metadata": {},
   "source": [
    "# Inconsistent Data Entry"
   ]
  },
  {
   "cell_type": "markdown",
   "id": "d12d3e7d",
   "metadata": {},
   "source": [
    "Ran this code for each colunm to check for inconsistent data entry. None of the columns had spelling mistakes, duplicates, added spaces or different upper and lower cases."
   ]
  },
  {
   "cell_type": "code",
   "execution_count": 47,
   "id": "369e235c",
   "metadata": {},
   "outputs": [
    {
     "data": {
      "text/plain": [
       "array(['CARDIOLOGY', 'CLINICAL NURSE SPECIALIST', 'EMERGENCY MEDICINE',\n",
       "       'ENDOCRINOLOGY', 'GASTROENTEROLOGY', 'GENERAL PRACTITIONER',\n",
       "       'GERIATRIC MEDICINE', 'HEMATOLOGY & ONCOLOGY',\n",
       "       'HOSPICE AND PALLIATIVE MEDICINE', 'HOSPITAL MEDICINE',\n",
       "       'NEPHROLOGY', 'NEUROLOGY', 'NUCLEAR MEDICINE',\n",
       "       'OBSTETRICS & OBSTETRICS & GYNECOLOGY & OBSTETRICS & GYNECOLOGY',\n",
       "       'OBSTETRICS AND GYNECOLOGY', 'OCCUPATIONAL MEDICINE', 'ONCOLOGY',\n",
       "       'OPHTHALMOLOGY', 'ORTHOPEDIC SURGERY', 'ORTHOPEDICS',\n",
       "       'OTOLARYNGOLOGY', 'PAIN MEDICINE', 'PATHOLOGY', 'PEDIATRICS',\n",
       "       'PHYSICAL MEDICINE AND REHABILITATION', 'PLASTIC SURGERY',\n",
       "       'PODIATRY', 'PSYCHIATRY AND NEUROLOGY', 'PULMONARY MEDICINE',\n",
       "       'RADIOLOGY', 'RHEUMATOLOGY', 'SURGERY AND SURGICAL SPECIALTIES',\n",
       "       'TRANSPLANT SURGERY', 'UROLOGY', 'Unknown', 'VASCULAR SURGERY'],\n",
       "      dtype=object)"
      ]
     },
     "execution_count": 47,
     "metadata": {},
     "output_type": "execute_result"
    }
   ],
   "source": [
    "# get all the unique values in the column\n",
    "data = df['Ntm_Speciality'].unique()\n",
    "\n",
    "# sort them alphabetically and then take a closer look\n",
    "data.sort()\n",
    "data"
   ]
  },
  {
   "cell_type": "code",
   "execution_count": null,
   "id": "8e318667",
   "metadata": {},
   "outputs": [],
   "source": []
  }
 ],
 "metadata": {
  "kernelspec": {
   "display_name": "Python [conda env:GPUenv] *",
   "language": "python",
   "name": "conda-env-GPUenv-py"
  },
  "language_info": {
   "codemirror_mode": {
    "name": "ipython",
    "version": 3
   },
   "file_extension": ".py",
   "mimetype": "text/x-python",
   "name": "python",
   "nbconvert_exporter": "python",
   "pygments_lexer": "ipython3",
   "version": "3.8.11"
  }
 },
 "nbformat": 4,
 "nbformat_minor": 5
}
